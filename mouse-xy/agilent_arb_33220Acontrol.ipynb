{
 "cells": [
  {
   "cell_type": "code",
   "execution_count": 134,
   "id": "105d976e-7355-4043-ba24-a4ab588c55aa",
   "metadata": {},
   "outputs": [
    {
     "data": {
      "text/plain": [
       "('TCPIP0::132.163.130.19::INSTR',\n",
       " 'ASRL1::INSTR',\n",
       " 'ASRL3::INSTR',\n",
       " 'GPIB0::10::INSTR',\n",
       " 'GPIB0::18::INSTR',\n",
       " 'GPIB0::19::INSTR',\n",
       " 'GPIB0::3::INSTR',\n",
       " 'GPIB0::7::INSTR',\n",
       " 'GPIB1::10::INSTR',\n",
       " 'GPIB1::19::INSTR',\n",
       " 'GPIB2::19::INSTR')"
      ]
     },
     "execution_count": 134,
     "metadata": {},
     "output_type": "execute_result"
    }
   ],
   "source": [
    "import pyvisa\n",
    "import json\n",
    "import matplotlib.pyplot as plt\n",
    "import numpy as np\n",
    "import os\n",
    "rm = pyvisa.ResourceManager()\n",
    "rm.list_resources()"
   ]
  },
  {
   "cell_type": "markdown",
   "id": "7ff76662-0b2b-49f8-b435-c3fce96f04cb",
   "metadata": {},
   "source": [
    "# [manual link](https://ecelabs.njit.edu/student_resources/33220_user_guide.pdf)"
   ]
  },
  {
   "cell_type": "code",
   "execution_count": 136,
   "id": "56859eb8-a82d-4742-94e6-5170e63219a5",
   "metadata": {},
   "outputs": [],
   "source": [
    "arb_gpib = rm.open_resource('GPIB0::10::INSTR')  \n",
    "#spectrum_analyzer_gpib = rm.open_resource('GPIB0::18::INSTR')\n",
    "#source_gpib = rm.open_resource('GPIB0::19::INSTR')"
   ]
  },
  {
   "cell_type": "code",
   "execution_count": 130,
   "id": "d8d7dd5d-1df8-4c87-b8d9-b5298168a3bc",
   "metadata": {},
   "outputs": [],
   "source": [
    "#arb_gpib.query('FREQuency?')\n",
    "#arb_gpib.query('VOLTage?')\n",
    "#arb_gpib.query('VOLTage:OFFSet?')\n",
    "#arb_gpib.write('FREQuency 3.14159e4')\n",
    "#arb_gpib.write('VOLTage 3.14159e-1')\n",
    "#arb_gpib.write('VOLTage:OFFSet 0.1')"
   ]
  },
  {
   "cell_type": "code",
   "execution_count": 132,
   "id": "d44c80d3-b352-4ace-98e4-d95cb258c1d0",
   "metadata": {},
   "outputs": [
    {
     "ename": "VisaIOError",
     "evalue": "VI_ERROR_BERR (-1073807304): Bus error occurred during transfer.",
     "output_type": "error",
     "traceback": [
      "\u001b[1;31m---------------------------------------------------------------------------\u001b[0m",
      "\u001b[1;31mVisaIOError\u001b[0m                               Traceback (most recent call last)",
      "Cell \u001b[1;32mIn[132], line 11\u001b[0m\n\u001b[0;32m      9\u001b[0m frequency_max \u001b[38;5;241m=\u001b[39m \u001b[38;5;241m3000\u001b[39m\n\u001b[0;32m     10\u001b[0m frequency \u001b[38;5;241m=\u001b[39m (np\u001b[38;5;241m.\u001b[39mround((frequency_min \u001b[38;5;241m+\u001b[39m xy[\u001b[38;5;124m'\u001b[39m\u001b[38;5;124mx\u001b[39m\u001b[38;5;124m'\u001b[39m]\u001b[38;5;241m*\u001b[39m(frequency_max \u001b[38;5;241m-\u001b[39m frequency_min))\u001b[38;5;241m*\u001b[39m\u001b[38;5;241m100\u001b[39m))\u001b[38;5;241m/\u001b[39m\u001b[38;5;241m100\u001b[39m\n\u001b[1;32m---> 11\u001b[0m arb_gpib\u001b[38;5;241m.\u001b[39mwrite(\u001b[38;5;124m'\u001b[39m\u001b[38;5;124mFREQuency \u001b[39m\u001b[38;5;124m'\u001b[39m \u001b[38;5;241m+\u001b[39m \u001b[38;5;28mstr\u001b[39m(frequency))\n\u001b[0;32m     12\u001b[0m voltage_min \u001b[38;5;241m=\u001b[39m \u001b[38;5;241m10e-3\u001b[39m\n\u001b[0;32m     13\u001b[0m voltage_max \u001b[38;5;241m=\u001b[39m \u001b[38;5;241m1\u001b[39m\n",
      "File \u001b[1;32mC:\\ProgramData\\anaconda3\\Lib\\site-packages\\pyvisa\\resources\\messagebased.py:213\u001b[0m, in \u001b[0;36mMessageBasedResource.write\u001b[1;34m(self, message, termination, encoding)\u001b[0m\n\u001b[0;32m    207\u001b[0m         warnings\u001b[38;5;241m.\u001b[39mwarn(\n\u001b[0;32m    208\u001b[0m             \u001b[38;5;124m\"\u001b[39m\u001b[38;5;124mwrite message already ends with termination characters\u001b[39m\u001b[38;5;124m\"\u001b[39m,\n\u001b[0;32m    209\u001b[0m             stacklevel\u001b[38;5;241m=\u001b[39m\u001b[38;5;241m2\u001b[39m,\n\u001b[0;32m    210\u001b[0m         )\n\u001b[0;32m    211\u001b[0m     message \u001b[38;5;241m+\u001b[39m\u001b[38;5;241m=\u001b[39m term\n\u001b[1;32m--> 213\u001b[0m count \u001b[38;5;241m=\u001b[39m \u001b[38;5;28mself\u001b[39m\u001b[38;5;241m.\u001b[39mwrite_raw(message\u001b[38;5;241m.\u001b[39mencode(enco))\n\u001b[0;32m    215\u001b[0m \u001b[38;5;28;01mreturn\u001b[39;00m count\n",
      "File \u001b[1;32mC:\\ProgramData\\anaconda3\\Lib\\site-packages\\pyvisa\\resources\\messagebased.py:173\u001b[0m, in \u001b[0;36mMessageBasedResource.write_raw\u001b[1;34m(self, message)\u001b[0m\n\u001b[0;32m    159\u001b[0m \u001b[38;5;28;01mdef\u001b[39;00m \u001b[38;5;21mwrite_raw\u001b[39m(\u001b[38;5;28mself\u001b[39m, message: \u001b[38;5;28mbytes\u001b[39m) \u001b[38;5;241m-\u001b[39m\u001b[38;5;241m>\u001b[39m \u001b[38;5;28mint\u001b[39m:\n\u001b[0;32m    160\u001b[0m \u001b[38;5;250m    \u001b[39m\u001b[38;5;124;03m\"\"\"Write a byte message to the device.\u001b[39;00m\n\u001b[0;32m    161\u001b[0m \n\u001b[0;32m    162\u001b[0m \u001b[38;5;124;03m    Parameters\u001b[39;00m\n\u001b[1;32m   (...)\u001b[0m\n\u001b[0;32m    171\u001b[0m \n\u001b[0;32m    172\u001b[0m \u001b[38;5;124;03m    \"\"\"\u001b[39;00m\n\u001b[1;32m--> 173\u001b[0m     \u001b[38;5;28;01mreturn\u001b[39;00m \u001b[38;5;28mself\u001b[39m\u001b[38;5;241m.\u001b[39mvisalib\u001b[38;5;241m.\u001b[39mwrite(\u001b[38;5;28mself\u001b[39m\u001b[38;5;241m.\u001b[39msession, message)[\u001b[38;5;241m0\u001b[39m]\n",
      "File \u001b[1;32mC:\\ProgramData\\anaconda3\\Lib\\site-packages\\pyvisa\\ctwrapper\\functions.py:2798\u001b[0m, in \u001b[0;36mwrite\u001b[1;34m(library, session, data)\u001b[0m\n\u001b[0;32m   2796\u001b[0m return_count \u001b[38;5;241m=\u001b[39m ViUInt32()\n\u001b[0;32m   2797\u001b[0m \u001b[38;5;66;03m# [ViSession, ViBuf, ViUInt32, ViPUInt32]\u001b[39;00m\n\u001b[1;32m-> 2798\u001b[0m ret \u001b[38;5;241m=\u001b[39m library\u001b[38;5;241m.\u001b[39mviWrite(session, data, \u001b[38;5;28mlen\u001b[39m(data), byref(return_count))\n\u001b[0;32m   2799\u001b[0m \u001b[38;5;28;01mreturn\u001b[39;00m return_count\u001b[38;5;241m.\u001b[39mvalue, ret\n",
      "File \u001b[1;32mC:\\ProgramData\\anaconda3\\Lib\\site-packages\\pyvisa\\ctwrapper\\highlevel.py:227\u001b[0m, in \u001b[0;36mIVIVisaLibrary._return_handler\u001b[1;34m(self, ret_value, func, arguments)\u001b[0m\n\u001b[0;32m    224\u001b[0m         \u001b[38;5;66;03m# Set session back to a safe value\u001b[39;00m\n\u001b[0;32m    225\u001b[0m         session \u001b[38;5;241m=\u001b[39m \u001b[38;5;28;01mNone\u001b[39;00m\n\u001b[1;32m--> 227\u001b[0m \u001b[38;5;28;01mreturn\u001b[39;00m \u001b[38;5;28mself\u001b[39m\u001b[38;5;241m.\u001b[39mhandle_return_value(session, ret_value)\n",
      "File \u001b[1;32mC:\\ProgramData\\anaconda3\\Lib\\site-packages\\pyvisa\\highlevel.py:252\u001b[0m, in \u001b[0;36mVisaLibraryBase.handle_return_value\u001b[1;34m(self, session, status_code)\u001b[0m\n\u001b[0;32m    249\u001b[0m     \u001b[38;5;28mself\u001b[39m\u001b[38;5;241m.\u001b[39m_last_status_in_session[session] \u001b[38;5;241m=\u001b[39m rv\n\u001b[0;32m    251\u001b[0m \u001b[38;5;28;01mif\u001b[39;00m rv \u001b[38;5;241m<\u001b[39m \u001b[38;5;241m0\u001b[39m:\n\u001b[1;32m--> 252\u001b[0m     \u001b[38;5;28;01mraise\u001b[39;00m errors\u001b[38;5;241m.\u001b[39mVisaIOError(rv)\n\u001b[0;32m    254\u001b[0m \u001b[38;5;28;01mif\u001b[39;00m rv \u001b[38;5;129;01min\u001b[39;00m \u001b[38;5;28mself\u001b[39m\u001b[38;5;241m.\u001b[39missue_warning_on:\n\u001b[0;32m    255\u001b[0m     \u001b[38;5;28;01mif\u001b[39;00m session \u001b[38;5;129;01mand\u001b[39;00m rv \u001b[38;5;129;01mnot\u001b[39;00m \u001b[38;5;129;01min\u001b[39;00m \u001b[38;5;28mself\u001b[39m\u001b[38;5;241m.\u001b[39m_ignore_warning_in_session[session]:\n",
      "\u001b[1;31mVisaIOError\u001b[0m: VI_ERROR_BERR (-1073807304): Bus error occurred during transfer."
     ]
    }
   ],
   "source": [
    "while True:\n",
    "    file_object = open(\"xy.json\", \"r\")\n",
    "    try:\n",
    "        xy = json.loads(file_object.read())\n",
    "    except ValueError:\n",
    "        pass\n",
    "    file_object.close()\n",
    "    frequency_min = 100\n",
    "    frequency_max = 3000\n",
    "    frequency = (np.round((frequency_min + xy['x']*(frequency_max - frequency_min))*100))/100\n",
    "    arb_gpib.write('FREQuency ' + str(frequency))\n",
    "    voltage_min = 10e-3\n",
    "    voltage_max = 1\n",
    "    voltage = (np.round((voltage_min + xy['y']*(voltage_max - voltage_min))*1000))/1000\n",
    "    #arb_gpib.write('VOLTage ' + str(voltage)) # amplitude peak to peak in volts\n",
    "    arb_gpib.write('VOLTage:OFFSet ' + str(voltage)) # offset voltage in volts\n",
    "    time.sleep(0.01)"
   ]
  },
  {
   "cell_type": "code",
   "execution_count": 142,
   "id": "1b82653f-0b59-4443-9982-a1db19080757",
   "metadata": {},
   "outputs": [
    {
     "data": {
      "text/plain": [
       "'Hewlett-Packard, E7405A, SG45102671, A.14.04\\n'"
      ]
     },
     "execution_count": 142,
     "metadata": {},
     "output_type": "execute_result"
    }
   ],
   "source": [
    "spectrum_analyzer_gpib.query('*IDN?')"
   ]
  },
  {
   "cell_type": "code",
   "execution_count": 150,
   "id": "4a47deaf-a87e-40d6-ba6e-697a6749f9a0",
   "metadata": {},
   "outputs": [
    {
     "data": {
      "text/plain": [
       "22"
      ]
     },
     "execution_count": 150,
     "metadata": {},
     "output_type": "execute_result"
    }
   ],
   "source": [
    "spectrum_analyzer_gpib.write('*RST')\n",
    "spectrum_analyzer_gpib.write('SENS:FREQ:CENT 4 GHz')"
   ]
  },
  {
   "cell_type": "code",
   "execution_count": 152,
   "id": "6f40d454-c773-493e-8ef0-17d9793e0b81",
   "metadata": {},
   "outputs": [],
   "source": [
    "source_gpib.close()\n",
    "spectrum_analyzer_gpib.close()\n",
    "arb_gpib.close()"
   ]
  },
  {
   "cell_type": "code",
   "execution_count": null,
   "id": "39cc0aa9-e590-4519-b929-1b96d7adacb6",
   "metadata": {},
   "outputs": [],
   "source": []
  }
 ],
 "metadata": {
  "kernelspec": {
   "display_name": "Python [conda env:base] *",
   "language": "python",
   "name": "conda-base-py"
  },
  "language_info": {
   "codemirror_mode": {
    "name": "ipython",
    "version": 3
   },
   "file_extension": ".py",
   "mimetype": "text/x-python",
   "name": "python",
   "nbconvert_exporter": "python",
   "pygments_lexer": "ipython3",
   "version": "3.12.7"
  }
 },
 "nbformat": 4,
 "nbformat_minor": 5
}
