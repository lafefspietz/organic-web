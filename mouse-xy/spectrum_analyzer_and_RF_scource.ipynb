{
 "cells": [
  {
   "cell_type": "code",
   "execution_count": 38,
   "id": "8e66d8c7-deb3-4b67-b167-95fd7782b531",
   "metadata": {},
   "outputs": [
    {
     "data": {
      "text/plain": [
       "('TCPIP0::132.163.130.19::INSTR',\n",
       " 'ASRL1::INSTR',\n",
       " 'ASRL3::INSTR',\n",
       " 'GPIB0::10::INSTR',\n",
       " 'GPIB0::18::INSTR',\n",
       " 'GPIB0::19::INSTR',\n",
       " 'GPIB0::3::INSTR',\n",
       " 'GPIB0::7::INSTR',\n",
       " 'GPIB1::10::INSTR',\n",
       " 'GPIB1::19::INSTR',\n",
       " 'GPIB2::19::INSTR')"
      ]
     },
     "execution_count": 38,
     "metadata": {},
     "output_type": "execute_result"
    }
   ],
   "source": [
    "import pyvisa\n",
    "import json\n",
    "import matplotlib.pyplot as plt\n",
    "import numpy as np\n",
    "import os\n",
    "rm = pyvisa.ResourceManager()\n",
    "rm.list_resources()"
   ]
  },
  {
   "cell_type": "markdown",
   "id": "42010461-e7d7-420c-bba9-e4285bf79384",
   "metadata": {},
   "source": [
    "## [link to manual](https://testworld.com/wp-content/uploads/programming-guide-agilent-hp-e7402a-e7405a-emc-analyzers.pdf)"
   ]
  },
  {
   "cell_type": "code",
   "execution_count": 205,
   "id": "2891ed2b-86f3-4c29-a740-9cd268957a88",
   "metadata": {},
   "outputs": [],
   "source": [
    "spectrum_analyzer_gpib = rm.open_resource('GPIB0::18::INSTR')\n",
    "source_gpib = rm.open_resource('GPIB0::19::INSTR')"
   ]
  },
  {
   "cell_type": "code",
   "execution_count": 214,
   "id": "791233b1-cbc6-455f-b5a4-e38d6b588fdf",
   "metadata": {},
   "outputs": [
    {
     "data": {
      "text/plain": [
       "'Hewlett-Packard, E7405A, SG45102671, A.14.04\\n'"
      ]
     },
     "execution_count": 214,
     "metadata": {},
     "output_type": "execute_result"
    }
   ],
   "source": [
    "spectrum_analyzer_gpib.query('*IDN?')"
   ]
  },
  {
   "cell_type": "code",
   "execution_count": 209,
   "id": "f6c0fe9f-8b59-42b3-b668-78284396ee87",
   "metadata": {},
   "outputs": [
    {
     "data": {
      "text/plain": [
       "'Agilent Technologies, E4438C, MY44250148, C.04.98\\n'"
      ]
     },
     "execution_count": 209,
     "metadata": {},
     "output_type": "execute_result"
    }
   ],
   "source": [
    "source_gpib.query('*IDN?')"
   ]
  },
  {
   "cell_type": "code",
   "execution_count": 216,
   "id": "a8f41a48-1a2a-4524-88f6-62f80caf0268",
   "metadata": {},
   "outputs": [
    {
     "data": {
      "text/plain": [
       "array([4.9999950e+09, 4.9999951e+09, 4.9999952e+09, 4.9999953e+09,\n",
       "       4.9999954e+09, 4.9999955e+09, 4.9999956e+09, 4.9999957e+09,\n",
       "       4.9999958e+09, 4.9999959e+09, 4.9999960e+09, 4.9999961e+09,\n",
       "       4.9999962e+09, 4.9999963e+09, 4.9999964e+09, 4.9999965e+09,\n",
       "       4.9999966e+09, 4.9999967e+09, 4.9999968e+09, 4.9999969e+09,\n",
       "       4.9999970e+09, 4.9999971e+09, 4.9999972e+09, 4.9999973e+09,\n",
       "       4.9999974e+09, 4.9999975e+09, 4.9999976e+09, 4.9999977e+09,\n",
       "       4.9999978e+09, 4.9999979e+09, 4.9999980e+09, 4.9999981e+09,\n",
       "       4.9999982e+09, 4.9999983e+09, 4.9999984e+09, 4.9999985e+09,\n",
       "       4.9999986e+09, 4.9999987e+09, 4.9999988e+09, 4.9999989e+09,\n",
       "       4.9999990e+09, 4.9999991e+09, 4.9999992e+09, 4.9999993e+09,\n",
       "       4.9999994e+09, 4.9999995e+09, 4.9999996e+09, 4.9999997e+09,\n",
       "       4.9999998e+09, 4.9999999e+09, 5.0000000e+09, 5.0000001e+09,\n",
       "       5.0000002e+09, 5.0000003e+09, 5.0000004e+09, 5.0000005e+09,\n",
       "       5.0000006e+09, 5.0000007e+09, 5.0000008e+09, 5.0000009e+09,\n",
       "       5.0000010e+09, 5.0000011e+09, 5.0000012e+09, 5.0000013e+09,\n",
       "       5.0000014e+09, 5.0000015e+09, 5.0000016e+09, 5.0000017e+09,\n",
       "       5.0000018e+09, 5.0000019e+09, 5.0000020e+09, 5.0000021e+09,\n",
       "       5.0000022e+09, 5.0000023e+09, 5.0000024e+09, 5.0000025e+09,\n",
       "       5.0000026e+09, 5.0000027e+09, 5.0000028e+09, 5.0000029e+09,\n",
       "       5.0000030e+09, 5.0000031e+09, 5.0000032e+09, 5.0000033e+09,\n",
       "       5.0000034e+09, 5.0000035e+09, 5.0000036e+09, 5.0000037e+09,\n",
       "       5.0000038e+09, 5.0000039e+09, 5.0000040e+09, 5.0000041e+09,\n",
       "       5.0000042e+09, 5.0000043e+09, 5.0000044e+09, 5.0000045e+09,\n",
       "       5.0000046e+09, 5.0000047e+09, 5.0000048e+09, 5.0000049e+09,\n",
       "       5.0000050e+09])"
      ]
     },
     "execution_count": 216,
     "metadata": {},
     "output_type": "execute_result"
    }
   ],
   "source": [
    "'''\n",
    "spectrum_analyzer_gpib.write('*RST')\n",
    "spectrum_analyzer_gpib.write('SENS:FREQ:CENT 4 GHz ')\n",
    "spectrum_analyzer_gpib.write('SENS:FREQ:SPAN 10 kHz ')\n",
    "spectrum_analyzer_gpib.write('INIT:CONT 0 ')\n",
    "spectrum_analyzer_gpib.write('INIT:IMM;*WAI ')\n",
    "spectrum_analyzer_gpib.write('UNIT:POW W')\n",
    "spectrum_analyzer_gpib.write('INIT:IMM;*WAI ')\n",
    "spectrum_analyzer_gpib.write('FORM:DATA ASC ')\n",
    "spectrum_analyzer_gpib.write('INIT:IMM;*WAI ')\n",
    "data = spectrum_analyzer_gpib.query('TRAC:DATA? TRACE1')\n",
    "data_array = data.split(',')\n",
    "plt.plot(data_array)\n",
    "spectrum_analyzer_gpib.write('UNIT:POW W')\n",
    "'''\n",
    "numpoints = int(spectrum_analyzer_gpib.query('SENSE:SWEEP:POINTS?'))\n",
    "start_frequency = float(spectrum_analyzer_gpib.query('SENSE:FREQ:STARt?'))\n",
    "stop_frequency = float(spectrum_analyzer_gpib.query('SENSE:FREQ:STOP?'))\n",
    "frequency = np.linspace(start_frequency,stop_frequency,numpoints)\n",
    "frequency"
   ]
  },
  {
   "cell_type": "code",
   "execution_count": 268,
   "id": "d7012f75-01c9-4067-8abe-75e81d7d5ea2",
   "metadata": {},
   "outputs": [
    {
     "data": {
      "text/plain": [
       "[<matplotlib.lines.Line2D at 0x1e09a2e1bb0>]"
      ]
     },
     "execution_count": 268,
     "metadata": {},
     "output_type": "execute_result"
    },
    {
     "data": {
      "image/png": "[encoded data removed]",
      "text/plain": [
       "<Figure size 640x480 with 1 Axes>"
      ]
     },
     "metadata": {},
     "output_type": "display_data"
    }
   ],
   "source": [
    "numpoints = int(spectrum_analyzer_gpib.query('SENSE:SWEEP:POINTS?'))\n",
    "start_frequency = float(spectrum_analyzer_gpib.query('SENSE:FREQ:STARt?'))\n",
    "stop_frequency = float(spectrum_analyzer_gpib.query('SENSE:FREQ:STOP?'))\n",
    "frequency = np.linspace(start_frequency,stop_frequency,numpoints)\n",
    "\n",
    "data = spectrum_analyzer_gpib.query('TRAC:DATA? TRACE1')\n",
    "data_string_list = data.split(',')\n",
    "number_list = []\n",
    "for number_string in data_string_list:\n",
    "    number_list.append(float(number_string))\n",
    "number_array = np.array(number_list)\n",
    "plt.plot(frequency,number_array,'+-')\n"
   ]
  },
  {
   "cell_type": "code",
   "execution_count": 193,
   "id": "1be0e4c9-8d11-4c57-860d-5c7d37452220",
   "metadata": {},
   "outputs": [
    {
     "data": {
      "text/plain": [
       "numpy.float64"
      ]
     },
     "execution_count": 193,
     "metadata": {},
     "output_type": "execute_result"
    }
   ],
   "source": [
    "type(frequency[10])"
   ]
  },
  {
   "cell_type": "code",
   "execution_count": null,
   "id": "07cba6bd-02c5-4007-85b1-4e49556824f9",
   "metadata": {},
   "outputs": [],
   "source": [
    "source_gpib.close()\n",
    "spectrum_analyzer_gpib.close()"
   ]
  }
 ],
 "metadata": {
  "kernelspec": {
   "display_name": "Python [conda env:base] *",
   "language": "python",
   "name": "conda-base-py"
  },
  "language_info": {
   "codemirror_mode": {
    "name": "ipython",
    "version": 3
   },
   "file_extension": ".py",
   "mimetype": "text/x-python",
   "name": "python",
   "nbconvert_exporter": "python",
   "pygments_lexer": "ipython3",
   "version": "3.12.7"
  }
 },
 "nbformat": 4,
 "nbformat_minor": 5
}
