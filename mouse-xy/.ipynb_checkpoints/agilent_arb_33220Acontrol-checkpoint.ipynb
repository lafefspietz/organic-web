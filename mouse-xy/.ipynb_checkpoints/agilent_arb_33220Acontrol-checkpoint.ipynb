{
 "cells": [
  {
   "cell_type": "code",
   "execution_count": 164,
   "id": "105d976e-7355-4043-ba24-a4ab588c55aa",
   "metadata": {},
   "outputs": [
    {
     "data": {
      "text/plain": [
       "('TCPIP0::132.163.130.19::INSTR',\n",
       " 'ASRL1::INSTR',\n",
       " 'ASRL3::INSTR',\n",
       " 'ASRL15::INSTR',\n",
       " 'GPIB0::10::INSTR',\n",
       " 'GPIB0::18::INSTR',\n",
       " 'GPIB0::19::INSTR',\n",
       " 'GPIB0::3::INSTR',\n",
       " 'GPIB0::7::INSTR',\n",
       " 'GPIB1::10::INSTR',\n",
       " 'GPIB1::19::INSTR',\n",
       " 'GPIB2::19::INSTR')"
      ]
     },
     "execution_count": 164,
     "metadata": {},
     "output_type": "execute_result"
    }
   ],
   "source": [
    "import pyvisa\n",
    "import json\n",
    "import matplotlib.pyplot as plt\n",
    "import numpy as np\n",
    "import os\n",
    "rm = pyvisa.ResourceManager()\n",
    "rm.list_resources()"
   ]
  },
  {
   "cell_type": "markdown",
   "id": "7ff76662-0b2b-49f8-b435-c3fce96f04cb",
   "metadata": {},
   "source": [
    "# [manual link](https://ecelabs.njit.edu/student_resources/33220_user_guide.pdf)"
   ]
  },
  {
   "cell_type": "code",
   "execution_count": 166,
   "id": "56859eb8-a82d-4742-94e6-5170e63219a5",
   "metadata": {},
   "outputs": [],
   "source": [
    "arb_gpib = rm.open_resource('GPIB0::10::INSTR')  \n",
    "#spectrum_analyzer_gpib = rm.open_resource('GPIB0::18::INSTR')\n",
    "#source_gpib = rm.open_resource('GPIB0::19::INSTR')"
   ]
  },
  {
   "cell_type": "code",
   "execution_count": 130,
   "id": "d8d7dd5d-1df8-4c87-b8d9-b5298168a3bc",
   "metadata": {},
   "outputs": [],
   "source": [
    "#arb_gpib.query('FREQuency?')\n",
    "#arb_gpib.query('VOLTage?')\n",
    "#arb_gpib.query('VOLTage:OFFSet?')\n",
    "#arb_gpib.write('FREQuency 3.14159e4')\n",
    "#arb_gpib.write('VOLTage 3.14159e-1')\n",
    "#arb_gpib.write('VOLTage:OFFSet 0.1')"
   ]
  },
  {
   "cell_type": "code",
   "execution_count": 168,
   "id": "d44c80d3-b352-4ace-98e4-d95cb258c1d0",
   "metadata": {},
   "outputs": [
    {
     "ename": "KeyboardInterrupt",
     "evalue": "",
     "output_type": "error",
     "traceback": [
      "\u001b[1;31m---------------------------------------------------------------------------\u001b[0m",
      "\u001b[1;31mKeyboardInterrupt\u001b[0m                         Traceback (most recent call last)",
      "Cell \u001b[1;32mIn[168], line 18\u001b[0m\n\u001b[0;32m     16\u001b[0m offset \u001b[38;5;241m=\u001b[39m xy[\u001b[38;5;124m'\u001b[39m\u001b[38;5;124mz\u001b[39m\u001b[38;5;124m'\u001b[39m]\u001b[38;5;241m*\u001b[39m\u001b[38;5;241m0.01\u001b[39m\n\u001b[0;32m     17\u001b[0m arb_gpib\u001b[38;5;241m.\u001b[39mwrite(\u001b[38;5;124m'\u001b[39m\u001b[38;5;124mVOLTage:OFFSet \u001b[39m\u001b[38;5;124m'\u001b[39m \u001b[38;5;241m+\u001b[39m \u001b[38;5;28mstr\u001b[39m(offset)) \u001b[38;5;66;03m# offset voltage in volts\u001b[39;00m\n\u001b[1;32m---> 18\u001b[0m time\u001b[38;5;241m.\u001b[39msleep(\u001b[38;5;241m0.01\u001b[39m)\n",
      "\u001b[1;31mKeyboardInterrupt\u001b[0m: "
     ]
    }
   ],
   "source": [
    "while True:\n",
    "    file_object = open(\"xy.json\", \"r\")\n",
    "    try:\n",
    "        xy = json.loads(file_object.read())\n",
    "    except ValueError:\n",
    "        pass\n",
    "    file_object.close()\n",
    "    frequency_min = 100\n",
    "    frequency_max = 3000\n",
    "    frequency = (np.round((frequency_min + xy['x']*(frequency_max - frequency_min))*100))/100\n",
    "    arb_gpib.write('FREQuency ' + str(frequency))\n",
    "    amplitude_min = 10e-3\n",
    "    amplitude_max = 1\n",
    "    amplitude = (np.round((amplitude_min + xy['y']*(amplitude_max - amplitude_min))*1000))/1000\n",
    "    arb_gpib.write('VOLTage ' + str(amplitude)) # amplitude peak to peak in volts\n",
    "    offset = xy['z']*0.01\n",
    "    arb_gpib.write('VOLTage:OFFSet ' + str(offset)) # offset voltage in volts\n",
    "    time.sleep(0.01)"
   ]
  },
  {
   "cell_type": "code",
   "execution_count": 142,
   "id": "1b82653f-0b59-4443-9982-a1db19080757",
   "metadata": {},
   "outputs": [
    {
     "data": {
      "text/plain": [
       "'Hewlett-Packard, E7405A, SG45102671, A.14.04\\n'"
      ]
     },
     "execution_count": 142,
     "metadata": {},
     "output_type": "execute_result"
    }
   ],
   "source": [
    "spectrum_analyzer_gpib.query('*IDN?')"
   ]
  },
  {
   "cell_type": "code",
   "execution_count": 150,
   "id": "4a47deaf-a87e-40d6-ba6e-697a6749f9a0",
   "metadata": {},
   "outputs": [
    {
     "data": {
      "text/plain": [
       "22"
      ]
     },
     "execution_count": 150,
     "metadata": {},
     "output_type": "execute_result"
    }
   ],
   "source": [
    "spectrum_analyzer_gpib.write('*RST')\n",
    "spectrum_analyzer_gpib.write('SENS:FREQ:CENT 4 GHz')"
   ]
  },
  {
   "cell_type": "code",
   "execution_count": 152,
   "id": "6f40d454-c773-493e-8ef0-17d9793e0b81",
   "metadata": {},
   "outputs": [],
   "source": [
    "source_gpib.close()\n",
    "spectrum_analyzer_gpib.close()\n",
    "arb_gpib.close()"
   ]
  },
  {
   "cell_type": "code",
   "execution_count": 154,
   "id": "39cc0aa9-e590-4519-b929-1b96d7adacb6",
   "metadata": {},
   "outputs": [],
   "source": [
    "file_object = open(\"xy.json\", \"r\")\n",
    "try:\n",
    "    xy = json.loads(file_object.read())\n",
    "except ValueError:\n",
    "    pass\n",
    "file_object.close()"
   ]
  },
  {
   "cell_type": "code",
   "execution_count": 156,
   "id": "3e1b302d-fe4a-4157-af79-db1a289cf688",
   "metadata": {},
   "outputs": [
    {
     "data": {
      "text/plain": [
       "{'x': 0.421, 'y': 0.603, 'z': 29}"
      ]
     },
     "execution_count": 156,
     "metadata": {},
     "output_type": "execute_result"
    }
   ],
   "source": [
    "xy"
   ]
  },
  {
   "cell_type": "code",
   "execution_count": 170,
   "id": "6d016ea4-9a23-4ab7-81e1-f1837c257570",
   "metadata": {},
   "outputs": [
    {
     "ename": "InvalidSession",
     "evalue": "Invalid session handle. The resource might be closed.",
     "output_type": "error",
     "traceback": [
      "\u001b[1;31m---------------------------------------------------------------------------\u001b[0m",
      "\u001b[1;31mInvalidSession\u001b[0m                            Traceback (most recent call last)",
      "Cell \u001b[1;32mIn[170], line 1\u001b[0m\n\u001b[1;32m----> 1\u001b[0m spectrum_analyzer_gpib\u001b[38;5;241m.\u001b[39mquery(\u001b[38;5;124m'\u001b[39m\u001b[38;5;124mSENSe:SWEep:TIME?\u001b[39m\u001b[38;5;124m'\u001b[39m)\n",
      "File \u001b[1;32mC:\\ProgramData\\anaconda3\\Lib\\site-packages\\pyvisa\\resources\\messagebased.py:684\u001b[0m, in \u001b[0;36mMessageBasedResource.query\u001b[1;34m(self, message, delay)\u001b[0m\n\u001b[0;32m    667\u001b[0m \u001b[38;5;28;01mdef\u001b[39;00m \u001b[38;5;21mquery\u001b[39m(\u001b[38;5;28mself\u001b[39m, message: \u001b[38;5;28mstr\u001b[39m, delay: Optional[\u001b[38;5;28mfloat\u001b[39m] \u001b[38;5;241m=\u001b[39m \u001b[38;5;28;01mNone\u001b[39;00m) \u001b[38;5;241m-\u001b[39m\u001b[38;5;241m>\u001b[39m \u001b[38;5;28mstr\u001b[39m:\n\u001b[0;32m    668\u001b[0m \u001b[38;5;250m    \u001b[39m\u001b[38;5;124;03m\"\"\"A combination of write(message) and read()\u001b[39;00m\n\u001b[0;32m    669\u001b[0m \n\u001b[0;32m    670\u001b[0m \u001b[38;5;124;03m    Parameters\u001b[39;00m\n\u001b[1;32m   (...)\u001b[0m\n\u001b[0;32m    682\u001b[0m \n\u001b[0;32m    683\u001b[0m \u001b[38;5;124;03m    \"\"\"\u001b[39;00m\n\u001b[1;32m--> 684\u001b[0m     \u001b[38;5;28mself\u001b[39m\u001b[38;5;241m.\u001b[39mwrite(message)\n\u001b[0;32m    686\u001b[0m     delay \u001b[38;5;241m=\u001b[39m \u001b[38;5;28mself\u001b[39m\u001b[38;5;241m.\u001b[39mquery_delay \u001b[38;5;28;01mif\u001b[39;00m delay \u001b[38;5;129;01mis\u001b[39;00m \u001b[38;5;28;01mNone\u001b[39;00m \u001b[38;5;28;01melse\u001b[39;00m delay\n\u001b[0;32m    687\u001b[0m     \u001b[38;5;28;01mif\u001b[39;00m delay \u001b[38;5;241m>\u001b[39m \u001b[38;5;241m0.0\u001b[39m:\n",
      "File \u001b[1;32mC:\\ProgramData\\anaconda3\\Lib\\site-packages\\pyvisa\\resources\\messagebased.py:213\u001b[0m, in \u001b[0;36mMessageBasedResource.write\u001b[1;34m(self, message, termination, encoding)\u001b[0m\n\u001b[0;32m    207\u001b[0m         warnings\u001b[38;5;241m.\u001b[39mwarn(\n\u001b[0;32m    208\u001b[0m             \u001b[38;5;124m\"\u001b[39m\u001b[38;5;124mwrite message already ends with termination characters\u001b[39m\u001b[38;5;124m\"\u001b[39m,\n\u001b[0;32m    209\u001b[0m             stacklevel\u001b[38;5;241m=\u001b[39m\u001b[38;5;241m2\u001b[39m,\n\u001b[0;32m    210\u001b[0m         )\n\u001b[0;32m    211\u001b[0m     message \u001b[38;5;241m+\u001b[39m\u001b[38;5;241m=\u001b[39m term\n\u001b[1;32m--> 213\u001b[0m count \u001b[38;5;241m=\u001b[39m \u001b[38;5;28mself\u001b[39m\u001b[38;5;241m.\u001b[39mwrite_raw(message\u001b[38;5;241m.\u001b[39mencode(enco))\n\u001b[0;32m    215\u001b[0m \u001b[38;5;28;01mreturn\u001b[39;00m count\n",
      "File \u001b[1;32mC:\\ProgramData\\anaconda3\\Lib\\site-packages\\pyvisa\\resources\\messagebased.py:173\u001b[0m, in \u001b[0;36mMessageBasedResource.write_raw\u001b[1;34m(self, message)\u001b[0m\n\u001b[0;32m    159\u001b[0m \u001b[38;5;28;01mdef\u001b[39;00m \u001b[38;5;21mwrite_raw\u001b[39m(\u001b[38;5;28mself\u001b[39m, message: \u001b[38;5;28mbytes\u001b[39m) \u001b[38;5;241m-\u001b[39m\u001b[38;5;241m>\u001b[39m \u001b[38;5;28mint\u001b[39m:\n\u001b[0;32m    160\u001b[0m \u001b[38;5;250m    \u001b[39m\u001b[38;5;124;03m\"\"\"Write a byte message to the device.\u001b[39;00m\n\u001b[0;32m    161\u001b[0m \n\u001b[0;32m    162\u001b[0m \u001b[38;5;124;03m    Parameters\u001b[39;00m\n\u001b[1;32m   (...)\u001b[0m\n\u001b[0;32m    171\u001b[0m \n\u001b[0;32m    172\u001b[0m \u001b[38;5;124;03m    \"\"\"\u001b[39;00m\n\u001b[1;32m--> 173\u001b[0m     \u001b[38;5;28;01mreturn\u001b[39;00m \u001b[38;5;28mself\u001b[39m\u001b[38;5;241m.\u001b[39mvisalib\u001b[38;5;241m.\u001b[39mwrite(\u001b[38;5;28mself\u001b[39m\u001b[38;5;241m.\u001b[39msession, message)[\u001b[38;5;241m0\u001b[39m]\n",
      "File \u001b[1;32mC:\\ProgramData\\anaconda3\\Lib\\site-packages\\pyvisa\\resources\\resource.py:171\u001b[0m, in \u001b[0;36mResource.session\u001b[1;34m(self)\u001b[0m\n\u001b[0;32m    162\u001b[0m \u001b[38;5;250m\u001b[39m\u001b[38;5;124;03m\"\"\"Resource session handle.\u001b[39;00m\n\u001b[0;32m    163\u001b[0m \n\u001b[0;32m    164\u001b[0m \u001b[38;5;124;03mRaises\u001b[39;00m\n\u001b[1;32m   (...)\u001b[0m\n\u001b[0;32m    168\u001b[0m \n\u001b[0;32m    169\u001b[0m \u001b[38;5;124;03m\"\"\"\u001b[39;00m\n\u001b[0;32m    170\u001b[0m \u001b[38;5;28;01mif\u001b[39;00m \u001b[38;5;28mself\u001b[39m\u001b[38;5;241m.\u001b[39m_session \u001b[38;5;129;01mis\u001b[39;00m \u001b[38;5;28;01mNone\u001b[39;00m:\n\u001b[1;32m--> 171\u001b[0m     \u001b[38;5;28;01mraise\u001b[39;00m errors\u001b[38;5;241m.\u001b[39mInvalidSession()\n\u001b[0;32m    172\u001b[0m \u001b[38;5;28;01mreturn\u001b[39;00m \u001b[38;5;28mself\u001b[39m\u001b[38;5;241m.\u001b[39m_session\n",
      "\u001b[1;31mInvalidSession\u001b[0m: Invalid session handle. The resource might be closed."
     ]
    }
   ],
   "source": []
  },
  {
   "cell_type": "code",
   "execution_count": null,
   "id": "3850b1e8-1a31-4f07-816c-17ded9fff2e2",
   "metadata": {},
   "outputs": [],
   "source": []
  }
 ],
 "metadata": {
  "kernelspec": {
   "display_name": "Python [conda env:base] *",
   "language": "python",
   "name": "conda-base-py"
  },
  "language_info": {
   "codemirror_mode": {
    "name": "ipython",
    "version": 3
   },
   "file_extension": ".py",
   "mimetype": "text/x-python",
   "name": "python",
   "nbconvert_exporter": "python",
   "pygments_lexer": "ipython3",
   "version": "3.12.7"
  }
 },
 "nbformat": 4,
 "nbformat_minor": 5
}
