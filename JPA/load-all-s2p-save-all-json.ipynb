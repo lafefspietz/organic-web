{
 "cells": [
  {
   "cell_type": "code",
   "execution_count": 1,
   "id": "d1db26b0",
   "metadata": {},
   "outputs": [],
   "source": [
    "# load needed python libraries matplotlib, numpy, and scikit-rf\n",
    "import matplotlib.pyplot as plt\n",
    "import numpy as np\n",
    "import skrf as rf\n",
    "import json\n",
    "from scipy.optimize import curve_fit\n",
    "data = rf.read_all('ampdata')\n",
    "#fghz = data1['trace0'].f/1e9\n",
    "fghz = data['trace0'].f/1e9\n",
    "def lorentzian(x,x0,curvepeak,fwhm):\n",
    "    return curvepeak/(1 + 4*((x-x0)/(fwhm))**2)\n"
   ]
  },
  {
   "cell_type": "code",
   "execution_count": 3,
   "id": "c5fa4cca",
   "metadata": {},
   "outputs": [],
   "source": [
    "for index in range(100):\n",
    "    graw = np.abs(data['trace' + str(index)].s[:,0,0])**2\n",
    "    popt, pcov = curve_fit(lorentzian,fghz,graw,p0=(6.5,80,0.03))\n",
    "    f0 = popt[0]\n",
    "    fwhm = popt[1]\n",
    "    curvepeak = popt[2]\n",
    "    gaindb = 10*np.log10(graw)\n",
    "    gaindbfit = 10*np.log10(lorentzian(fghz,f0,fwhm,curvepeak))\n",
    "    tracedata = {}\n",
    "    tracedata['fghz'] = fghz.tolist()\n",
    "    tracedata['gaindb'] = gaindb.tolist()\n",
    "    tracedata['gaindbfit'] = gaindbfit.tolist()\n",
    "    tracedata['f0'] = popt[0]\n",
    "    tracedata['curvepeak'] = 10*np.log10(popt[1])\n",
    "    tracedata['fwhm'] = np.abs(popt[2])\n",
    "    file_object = open(\"ampdatajson/trace\" + str(index) + \".json\", \"w\")\n",
    "    json_string = file_object.write(json.dumps(tracedata))\n",
    "    file_object.close()"
   ]
  },
  {
   "cell_type": "code",
   "execution_count": null,
   "id": "1d2a62ea",
   "metadata": {},
   "outputs": [],
   "source": []
  }
 ],
 "metadata": {
  "kernelspec": {
   "display_name": "Python [conda env:base] *",
   "language": "python",
   "name": "conda-base-py"
  },
  "language_info": {
   "codemirror_mode": {
    "name": "ipython",
    "version": 3
   },
   "file_extension": ".py",
   "mimetype": "text/x-python",
   "name": "python",
   "nbconvert_exporter": "python",
   "pygments_lexer": "ipython3",
   "version": "3.12.7"
  }
 },
 "nbformat": 4,
 "nbformat_minor": 5
}
