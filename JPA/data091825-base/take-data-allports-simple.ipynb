{
 "cells": [
  {
   "cell_type": "code",
   "execution_count": 13,
   "id": "7a50ff1b-e763-4914-bcd5-80bb82e9755a",
   "metadata": {},
   "outputs": [],
   "source": [
    "# pip install git+https://github.com/sandersa-nist/pyMez.\n",
    "# pip install pyserial\n",
    "from pyMez import *\n",
    "import time\n",
    "import json\n",
    "# load needed python libraries matplotlib, numpy, and scikit-rf\n",
    "import matplotlib.pyplot as plt\n",
    "import numpy as np\n",
    "import skrf as rf"
   ]
  },
  {
   "cell_type": "code",
   "execution_count": 2,
   "id": "767343bd-a069-4ce4-8861-ee775497f1c4",
   "metadata": {},
   "outputs": [
    {
     "data": {
      "text/plain": [
       "('TCPIP0::A-33612A-01084.local::inst0::INSTR',\n",
       " 'ASRL1::INSTR',\n",
       " 'ASRL3::INSTR',\n",
       " 'ASRL5::INSTR',\n",
       " 'GPIB0::3::INSTR',\n",
       " 'GPIB0::18::INSTR',\n",
       " 'GPIB0::19::INSTR',\n",
       " 'GPIB0::21::INSTR',\n",
       " 'GPIB0::22::INSTR',\n",
       " 'GPIB0::23::INSTR',\n",
       " 'GPIB0::30::INSTR')"
      ]
     },
     "execution_count": 2,
     "metadata": {},
     "output_type": "execute_result"
    }
   ],
   "source": [
    "import pyvisa\n",
    "\n",
    "rm = pyvisa.ResourceManager()\n",
    "rm.list_resources()"
   ]
  },
  {
   "cell_type": "code",
   "execution_count": 14,
   "id": "ae673033-9af9-482b-9e88-2ff778f5a95c",
   "metadata": {},
   "outputs": [
    {
     "name": "stdout",
     "output_type": "stream",
     "text": [
      "YOKOGAWA,GS210,91W925623,2.02\n",
      " is at address GPIB0::3::INSTR\n",
      "Rohde&Schwarz,FSP-38,100101/038,4.50\n",
      " is at address GPIB0::18::INSTR\n",
      "Agilent Technologies,E8364B,US42250162,A.07.50.67\n",
      " is at address GPIB0::19::INSTR\n",
      "Agilent Technologies,33250A,0,2.01-1.01-1.00-03-2\n",
      " is at address GPIB0::21::INSTR\n",
      "Agilent Technologies,33522B,MY52800403,2.09-1.19-2.00-52-00\n",
      " is at address GPIB0::22::INSTR\n",
      "Agilent Technologies,33250A,0,2.01-1.01-1.00-03-2\n",
      " is at address GPIB0::23::INSTR\n",
      "Agilent Technologies, E8257C, US42340290, C.03.63\n",
      " is at address GPIB0::30::INSTR\n"
     ]
    }
   ],
   "source": [
    "# list instruments\n",
    "whos_there()"
   ]
  },
  {
   "cell_type": "code",
   "execution_count": 15,
   "id": "5abf429d-9736-4b49-8a42-20c17de7831a",
   "metadata": {},
   "outputs": [
    {
     "name": "stdout",
     "output_type": "stream",
     "text": [
      "The information sheet was not found defaulting to address\n"
     ]
    }
   ],
   "source": [
    "#create vna object\n",
    "vna=VNA(\"GPIB0::19::INSTR\")"
   ]
  },
  {
   "cell_type": "code",
   "execution_count": 16,
   "id": "e2cc8ef9-cff7-48d4-b046-a469ee02e19d",
   "metadata": {},
   "outputs": [],
   "source": [
    "vna.initialize()"
   ]
  },
  {
   "cell_type": "code",
   "execution_count": 17,
   "id": "d340e9ba-7bf1-45f5-9f91-b0b4b85ba0ab",
   "metadata": {},
   "outputs": [],
   "source": [
    "s2p=vna.measure_sparameters()\n",
    "vna.write('INITiate:CONTinuous ON') # this turns the sweep back on when we're done taking the traces so the instrument is usable\n",
    "s2p.save(\"short.s2p\")"
   ]
  },
  {
   "cell_type": "code",
   "execution_count": 18,
   "id": "62dec373-7847-40f2-ad46-9bcefb3a4f31",
   "metadata": {},
   "outputs": [],
   "source": [
    "s2p=vna.measure_sparameters()\n",
    "vna.write('INITiate:CONTinuous ON') # this turns the sweep back on when we're done taking the traces so the instrument is usable\n",
    "s2p.save(\"open.s2p\")"
   ]
  },
  {
   "cell_type": "code",
   "execution_count": 19,
   "id": "1e7f52b8-0b1d-4352-8068-c464145ccbaa",
   "metadata": {},
   "outputs": [],
   "source": [
    "s2p=vna.measure_sparameters()\n",
    "vna.write('INITiate:CONTinuous ON') # this turns the sweep back on when we're done taking the traces so the instrument is usable\n",
    "s2p.save(\"load.s2p\")"
   ]
  },
  {
   "cell_type": "code",
   "execution_count": 20,
   "id": "f4fd1127-52c8-4a5c-91f7-7edce001c5e0",
   "metadata": {},
   "outputs": [],
   "source": [
    "s2p=vna.measure_sparameters()\n",
    "vna.write('INITiate:CONTinuous ON') # this turns the sweep back on when we're done taking the traces so the instrument is usable\n",
    "s2p.save(\"port1.s2p\")"
   ]
  },
  {
   "cell_type": "code",
   "execution_count": 21,
   "id": "3a1f5341-c258-47a4-99fc-e8555de9aa5b",
   "metadata": {},
   "outputs": [],
   "source": [
    "s2p=vna.measure_sparameters()\n",
    "vna.write('INITiate:CONTinuous ON') # this turns the sweep back on when we're done taking the traces so the instrument is usable\n",
    "s2p.save(\"port2.s2p\")"
   ]
  },
  {
   "cell_type": "code",
   "execution_count": 22,
   "id": "268b4639-8a75-4b07-8e57-598db488e10b",
   "metadata": {},
   "outputs": [],
   "source": [
    "s2p=vna.measure_sparameters()\n",
    "vna.write('INITiate:CONTinuous ON') # this turns the sweep back on when we're done taking the traces so the instrument is usable\n",
    "s2p.save(\"port3.s2p\")"
   ]
  },
  {
   "cell_type": "code",
   "execution_count": 23,
   "id": "24273efb-0c7b-4678-8c73-489977f4fc34",
   "metadata": {},
   "outputs": [],
   "source": [
    "s2p=vna.measure_sparameters()\n",
    "vna.write('INITiate:CONTinuous ON') # this turns the sweep back on when we're done taking the traces so the instrument is usable\n",
    "s2p.save(\"port4.s2p\")"
   ]
  },
  {
   "cell_type": "code",
   "execution_count": 24,
   "id": "6f52acaf-7c24-435a-9792-79410f4e4cf9",
   "metadata": {},
   "outputs": [],
   "source": [
    "s2p=vna.measure_sparameters()\n",
    "vna.write('INITiate:CONTinuous ON') # this turns the sweep back on when we're done taking the traces so the instrument is usable\n",
    "s2p.save(\"port5.s2p\")"
   ]
  },
  {
   "cell_type": "code",
   "execution_count": 25,
   "id": "c26532d2-b4e4-45f6-8b5b-4699f46a8a7d",
   "metadata": {},
   "outputs": [],
   "source": [
    "s2p=vna.measure_sparameters()\n",
    "vna.write('INITiate:CONTinuous ON') # this turns the sweep back on when we're done taking the traces so the instrument is usable\n",
    "s2p.save(\"port6.s2p\")"
   ]
  },
  {
   "cell_type": "code",
   "execution_count": 26,
   "id": "c319b8ec-820d-42db-9645-8aab2bc20286",
   "metadata": {},
   "outputs": [],
   "source": [
    "s2p=vna.measure_sparameters()\n",
    "vna.write('INITiate:CONTinuous ON') # this turns the sweep back on when we're done taking the traces so the instrument is usable\n",
    "s2p.save(\"JPA_goodgain1.s2p\")"
   ]
  },
  {
   "cell_type": "code",
   "execution_count": null,
   "id": "967d10e6-8349-4713-9fe1-199fea5daa71",
   "metadata": {},
   "outputs": [],
   "source": []
  }
 ],
 "metadata": {
  "kernelspec": {
   "display_name": "Python 3 (ipykernel)",
   "language": "python",
   "name": "python3"
  },
  "language_info": {
   "codemirror_mode": {
    "name": "ipython",
    "version": 3
   },
   "file_extension": ".py",
   "mimetype": "text/x-python",
   "name": "python",
   "nbconvert_exporter": "python",
   "pygments_lexer": "ipython3",
   "version": "3.12.4"
  }
 },
 "nbformat": 4,
 "nbformat_minor": 5
}
