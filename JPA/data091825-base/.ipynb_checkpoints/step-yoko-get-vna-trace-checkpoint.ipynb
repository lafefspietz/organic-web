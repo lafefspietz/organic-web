{
 "cells": [
  {
   "cell_type": "code",
   "execution_count": 67,
   "id": "1dd582d3-3454-40c0-9994-00c5c54877ec",
   "metadata": {},
   "outputs": [],
   "source": [
    "import time\n",
    "import json\n",
    "# load needed python libraries matplotlib, numpy, and scikit-rf\n",
    "import matplotlib.pyplot as plt\n",
    "import numpy as np\n",
    "import skrf as rf\n",
    "import pyvisa\n",
    "rm = pyvisa.ResourceManager()\n",
    "rm.list_resources()\n",
    "from pyMez import *\n"
   ]
  },
  {
   "cell_type": "code",
   "execution_count": 68,
   "id": "b41a445c-d4d4-4dc8-99a8-78545c16cda3",
   "metadata": {},
   "outputs": [],
   "source": [
    "yoko = rm.open_resource('GPIB0::3::INSTR')"
   ]
  },
  {
   "cell_type": "code",
   "execution_count": 26,
   "id": "1927771f-2ea4-43f4-94ec-6aaa6cac179a",
   "metadata": {},
   "outputs": [
    {
     "data": {
      "text/plain": [
       "21"
      ]
     },
     "execution_count": 26,
     "metadata": {},
     "output_type": "execute_result"
    }
   ],
   "source": [
    "yoko_gpib.write('SOURce:LEVel 0.1234')"
   ]
  },
  {
   "cell_type": "code",
   "execution_count": 69,
   "id": "52793246-9261-46ec-8df8-74812b4ad252",
   "metadata": {},
   "outputs": [
    {
     "name": "stdout",
     "output_type": "stream",
     "text": [
      "YOKOGAWA,GS210,91W925623,2.02\n",
      " is at address GPIB0::3::INSTR\n",
      "Rohde&Schwarz,FSP-38,100101/038,4.50\n",
      " is at address GPIB0::18::INSTR\n",
      "Agilent Technologies,E8364B,US42250162,A.07.50.67\n",
      " is at address GPIB0::19::INSTR\n",
      "Agilent Technologies,33250A,0,2.01-1.01-1.00-03-2\n",
      " is at address GPIB0::21::INSTR\n",
      "Agilent Technologies,33522B,MY52800403,2.09-1.19-2.00-52-00\n",
      " is at address GPIB0::22::INSTR\n",
      "Agilent Technologies,33250A,0,2.01-1.01-1.00-03-2\n",
      " is at address GPIB0::23::INSTR\n",
      "Agilent Technologies, E8257C, US42340290, C.03.63\n",
      " is at address GPIB0::30::INSTR\n"
     ]
    }
   ],
   "source": [
    "# list instruments\n",
    "whos_there()"
   ]
  },
  {
   "cell_type": "code",
   "execution_count": 70,
   "id": "0ae2332e-3011-4b49-828f-0f6bcd54d8c1",
   "metadata": {},
   "outputs": [
    {
     "name": "stdout",
     "output_type": "stream",
     "text": [
      "The information sheet was not found defaulting to address\n"
     ]
    }
   ],
   "source": [
    "vna=VNA(\"GPIB0::19::INSTR\")"
   ]
  },
  {
   "cell_type": "code",
   "execution_count": 71,
   "id": "159209d3-2854-4ae1-8194-51bcbd586c0c",
   "metadata": {},
   "outputs": [],
   "source": [
    "vna.initialize()"
   ]
  },
  {
   "cell_type": "code",
   "execution_count": 32,
   "id": "09496ca7-297f-4077-adc3-bfd7349337eb",
   "metadata": {},
   "outputs": [],
   "source": [
    "vstart = -1\n",
    "vstop = 1\n",
    "numpoints = 100\n",
    "biaswave = np.linspace(vstart,vstop,numpoints)\n",
    "for index in range(len(biaswave)):\n",
    "    yoko_gpib.write('SOURce:LEVel ' + str(biaswave[index]))\n",
    "    filename = \"scan1/trace\" + str(index) + \".s2p\"\n",
    "    s2p=vna.measure_sparameters()\n",
    "    vna.write('INITiate:CONTinuous ON') # this turns the sweep back on when we're done taking the traces so the instrument is usable\n",
    "    s2p.save(filename)"
   ]
  },
  {
   "cell_type": "code",
   "execution_count": 47,
   "id": "5bc79ce4-50d4-4eff-ab68-89804993ae73",
   "metadata": {},
   "outputs": [],
   "source": [
    "file_object = open(\"scan1/biaswave.json\", \"w\")\n",
    "file_object.write(json.dumps(biaswave.tolist()))\n",
    "file_object.close()"
   ]
  },
  {
   "cell_type": "code",
   "execution_count": 54,
   "id": "868aefb3-f875-4ec2-ae1c-0656ac4fb037",
   "metadata": {},
   "outputs": [
    {
     "data": {
      "text/plain": [
       "array([-1.        , -0.97979798, -0.95959596, -0.93939394, -0.91919192,\n",
       "       -0.8989899 , -0.87878788, -0.85858586, -0.83838384, -0.81818182,\n",
       "       -0.7979798 , -0.77777778, -0.75757576, -0.73737374, -0.71717172,\n",
       "       -0.6969697 , -0.67676768, -0.65656566, -0.63636364, -0.61616162,\n",
       "       -0.5959596 , -0.57575758, -0.55555556, -0.53535354, -0.51515152,\n",
       "       -0.49494949, -0.47474747, -0.45454545, -0.43434343, -0.41414141,\n",
       "       -0.39393939, -0.37373737, -0.35353535, -0.33333333, -0.31313131,\n",
       "       -0.29292929, -0.27272727, -0.25252525, -0.23232323, -0.21212121,\n",
       "       -0.19191919, -0.17171717, -0.15151515, -0.13131313, -0.11111111,\n",
       "       -0.09090909, -0.07070707, -0.05050505, -0.03030303, -0.01010101,\n",
       "        0.01010101,  0.03030303,  0.05050505,  0.07070707,  0.09090909,\n",
       "        0.11111111,  0.13131313,  0.15151515,  0.17171717,  0.19191919,\n",
       "        0.21212121,  0.23232323,  0.25252525,  0.27272727,  0.29292929,\n",
       "        0.31313131,  0.33333333,  0.35353535,  0.37373737,  0.39393939,\n",
       "        0.41414141,  0.43434343,  0.45454545,  0.47474747,  0.49494949,\n",
       "        0.51515152,  0.53535354,  0.55555556,  0.57575758,  0.5959596 ,\n",
       "        0.61616162,  0.63636364,  0.65656566,  0.67676768,  0.6969697 ,\n",
       "        0.71717172,  0.73737374,  0.75757576,  0.77777778,  0.7979798 ,\n",
       "        0.81818182,  0.83838384,  0.85858586,  0.87878788,  0.8989899 ,\n",
       "        0.91919192,  0.93939394,  0.95959596,  0.97979798,  1.        ])"
      ]
     },
     "execution_count": 54,
     "metadata": {},
     "output_type": "execute_result"
    }
   ],
   "source": [
    "file_object = open(\"scan1/biaswave.json\", \"r\")\n",
    "json_string = file_object.read()\n",
    "file_object.close()\n",
    "loaded_biaswave = np.array(json.loads(json_string))\n",
    "loaded_biaswave"
   ]
  },
  {
   "cell_type": "code",
   "execution_count": 55,
   "id": "5819c9b6-90d3-443f-b83a-a8bcc59de15f",
   "metadata": {},
   "outputs": [],
   "source": [
    "vstart = 0.45\n",
    "vstop = 0.75\n",
    "numpoints = 100\n",
    "biaswave = np.linspace(vstart,vstop,numpoints)\n",
    "for index in range(len(biaswave)):\n",
    "    yoko_gpib.write('SOURce:LEVel ' + str(biaswave[index]))\n",
    "    filename = \"scan2/trace\" + str(index) + \".s2p\"\n",
    "    s2p=vna.measure_sparameters()\n",
    "    vna.write('INITiate:CONTinuous ON') # this turns the sweep back on when we're done taking the traces so the instrument is usable\n",
    "    s2p.save(filename)"
   ]
  },
  {
   "cell_type": "code",
   "execution_count": 57,
   "id": "27e71be1-adcc-4a0d-b18d-76c6ee418479",
   "metadata": {},
   "outputs": [],
   "source": [
    "file_object = open(\"scan2/biaswave.json\", \"w\")\n",
    "file_object.write(json.dumps(biaswave.tolist()))\n",
    "file_object.close()"
   ]
  },
  {
   "cell_type": "code",
   "execution_count": 58,
   "id": "d062a3cd-89f3-4bc4-a6dd-8a741545ecb9",
   "metadata": {},
   "outputs": [],
   "source": [
    "vstart = 0.53\n",
    "vstop = 0.65\n",
    "numpoints = 100\n",
    "biaswave = np.linspace(vstart,vstop,numpoints)\n",
    "for index in range(len(biaswave)):\n",
    "    yoko_gpib.write('SOURce:LEVel ' + str(biaswave[index]))\n",
    "    filename = \"scan3/trace\" + str(index) + \".s2p\"\n",
    "    s2p=vna.measure_sparameters()\n",
    "    vna.write('INITiate:CONTinuous ON') # this turns the sweep back on when we're done taking the traces so the instrument is usable\n",
    "    s2p.save(filename)"
   ]
  },
  {
   "cell_type": "code",
   "execution_count": 59,
   "id": "1545e2c6-7c35-4a03-9173-bf7620a2f52b",
   "metadata": {},
   "outputs": [],
   "source": [
    "file_object = open(\"scan3/biaswave.json\", \"w\")\n",
    "file_object.write(json.dumps(biaswave.tolist()))\n",
    "file_object.close()"
   ]
  },
  {
   "cell_type": "code",
   "execution_count": 65,
   "id": "3b1b2025-2d4a-4ead-a034-e8e58d291108",
   "metadata": {},
   "outputs": [],
   "source": [
    "vstart = -3\n",
    "vstop = 3\n",
    "numpoints = 100\n",
    "biaswave = np.linspace(vstart,vstop,numpoints)\n",
    "for index in range(len(biaswave)):\n",
    "    yoko_gpib.write('SOURce:LEVel ' + str(biaswave[index]))\n",
    "    filename = \"scan4/trace\" + str(index) + \".s2p\"\n",
    "    s2p=vna.measure_sparameters()\n",
    "    vna.write('INITiate:CONTinuous ON') # this turns the sweep back on when we're done taking the traces so the instrument is usable\n",
    "    s2p.save(filename)"
   ]
  },
  {
   "cell_type": "code",
   "execution_count": 66,
   "id": "d344df37-cc75-4390-9c5b-fc81b2b93cba",
   "metadata": {},
   "outputs": [],
   "source": [
    "file_object = open(\"scan4/biaswave.json\", \"w\")\n",
    "file_object.write(json.dumps(biaswave.tolist()))\n",
    "file_object.close()"
   ]
  },
  {
   "cell_type": "code",
   "execution_count": 72,
   "id": "cbae95eb-3af4-44ce-b9f6-188d749ee479",
   "metadata": {},
   "outputs": [],
   "source": [
    "vstart = -3\n",
    "vstop = 3\n",
    "numpoints = 100\n",
    "biaswave = np.linspace(vstart,vstop,numpoints)\n",
    "for index in range(len(biaswave)):\n",
    "    yoko_gpib.write('SOURce:LEVel ' + str(biaswave[index]))\n",
    "    filename = \"scan5/trace\" + str(index) + \".s2p\"\n",
    "    s2p=vna.measure_sparameters()\n",
    "    vna.write('INITiate:CONTinuous ON') # this turns the sweep back on when we're done taking the traces so the instrument is usable\n",
    "    s2p.save(filename)"
   ]
  },
  {
   "cell_type": "code",
   "execution_count": 73,
   "id": "d8cb32f8-fd05-4967-bfb1-d2b51352c86d",
   "metadata": {},
   "outputs": [],
   "source": [
    "file_object = open(\"scan5/biaswave.json\", \"w\")\n",
    "file_object.write(json.dumps(biaswave.tolist()))\n",
    "file_object.close()"
   ]
  },
  {
   "cell_type": "code",
   "execution_count": null,
   "id": "98f57ff3-50dc-4057-9106-2566f2c22ab9",
   "metadata": {},
   "outputs": [],
   "source": []
  }
 ],
 "metadata": {
  "kernelspec": {
   "display_name": "Python 3 (ipykernel)",
   "language": "python",
   "name": "python3"
  },
  "language_info": {
   "codemirror_mode": {
    "name": "ipython",
    "version": 3
   },
   "file_extension": ".py",
   "mimetype": "text/x-python",
   "name": "python",
   "nbconvert_exporter": "python",
   "pygments_lexer": "ipython3",
   "version": "3.12.4"
  }
 },
 "nbformat": 4,
 "nbformat_minor": 5
}
