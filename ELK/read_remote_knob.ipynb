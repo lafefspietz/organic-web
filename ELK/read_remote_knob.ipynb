{
 "cells": [
  {
   "cell_type": "code",
   "execution_count": 15,
   "id": "57ece9cf-71f2-4816-9060-f1bf2bcd0ee0",
   "metadata": {},
   "outputs": [
    {
     "name": "stdout",
     "output_type": "stream",
     "text": [
      "6.8\n"
     ]
    }
   ],
   "source": [
    "import urllib.request\n",
    "import json\n",
    "import time\n",
    "elkurl = \"http://67206fqe.campus.nist.gov/organic-web/ELK/elk.json\"\n",
    "foo  = urllib.request.urlopen(elkurl)\n",
    "myfile = foo.read()\n",
    "elk = json.loads(myfile)\n",
    "x = elk['x']\n",
    "print(x)"
   ]
  },
  {
   "cell_type": "code",
   "execution_count": null,
   "id": "d752bc9b-5c88-4009-8242-a03a0ef5bd03",
   "metadata": {},
   "outputs": [],
   "source": []
  }
 ],
 "metadata": {
  "kernelspec": {
   "display_name": "Python [conda env:base] *",
   "language": "python",
   "name": "conda-base-py"
  },
  "language_info": {
   "codemirror_mode": {
    "name": "ipython",
    "version": 3
   },
   "file_extension": ".py",
   "mimetype": "text/x-python",
   "name": "python",
   "nbconvert_exporter": "python",
   "pygments_lexer": "ipython3",
   "version": "3.12.7"
  }
 },
 "nbformat": 4,
 "nbformat_minor": 5
}
